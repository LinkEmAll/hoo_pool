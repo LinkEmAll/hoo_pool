{
 "cells": [
  {
   "cell_type": "code",
   "execution_count": 4,
   "id": "2bd55078-799b-40bf-9cbf-71d125125b35",
   "metadata": {},
   "outputs": [
    {
     "name": "stderr",
     "output_type": "stream",
     "text": [
      "C:\\Users\\revup\\AppData\\Local\\Temp\\ipykernel_53148\\2451195586.py:13: SettingWithCopyWarning: \n",
      "A value is trying to be set on a copy of a slice from a DataFrame.\n",
      "Try using .loc[row_indexer,col_indexer] = value instead\n",
      "\n",
      "See the caveats in the documentation: https://pandas.pydata.org/pandas-docs/stable/user_guide/indexing.html#returning-a-view-versus-a-copy\n",
      "  gmx_min_df.loc[:, \"Balance\"] = ((gmx_min_df.loc[:, \"Balance\"] * .5) * 44) * 10**18\n"
     ]
    }
   ],
   "source": [
    "import pandas as pd \n",
    "from pathlib import Path\n",
    "\n",
    "gmx_df = pd.read_csv(\n",
    "    Path(\"./export-tokenholders-for-contract-0xfc5a1a6eb076a2c7ad06ed22c90d7e710e35ad0a.csv\"),\n",
    "    index_col='HolderAddress', \n",
    "    parse_dates=False, \n",
    "    infer_datetime_format=False\n",
    ")\n",
    "\n",
    "gmx_min_df = gmx_df[gmx_df.Balance >= 23]\n",
    "\n",
    "gmx_min_df.loc[:, \"Balance\"] = ((gmx_min_df.loc[:, \"Balance\"] * .5) * 44) * 10**18\n",
    "\n",
    "gmx_df_final = gmx_min_df.clip(upper=pd.Series({'Balance': 10000000000000000000000}), axis=1).drop(columns=['PendingBalanceUpdate']) \n",
    "\n",
    "gmx_df_final.to_csv('gmx.csv')"
   ]
  },
  {
   "cell_type": "code",
   "execution_count": null,
   "id": "a9e456f8-18d1-4d07-bead-11121447ba01",
   "metadata": {},
   "outputs": [],
   "source": []
  }
 ],
 "metadata": {
  "kernelspec": {
   "display_name": "Python 3 (ipykernel)",
   "language": "python",
   "name": "python3"
  },
  "language_info": {
   "codemirror_mode": {
    "name": "ipython",
    "version": 3
   },
   "file_extension": ".py",
   "mimetype": "text/x-python",
   "name": "python",
   "nbconvert_exporter": "python",
   "pygments_lexer": "ipython3",
   "version": "3.10.4"
  }
 },
 "nbformat": 4,
 "nbformat_minor": 5
}
