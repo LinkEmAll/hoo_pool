{
 "cells": [
  {
   "cell_type": "code",
   "execution_count": 1,
   "id": "ebc02b5c-329d-43bf-8b0b-81eb665d9dc2",
   "metadata": {},
   "outputs": [],
   "source": [
    "import pandas as pd \n",
    "from pathlib import Path\n",
    "\n",
    "ethlizards_df = pd.read_csv(\n",
    "    Path(\"./export-tokenholders-for-nft-contract-0x16de9d750f4ac24226154c40980ef83d4d3fd4ad.csv\"),\n",
    "    index_col='HolderAddress', \n",
    "    parse_dates=False, \n",
    "    infer_datetime_format=False\n",
    ")\n",
    "\n",
    "ethlizards_df.loc[:, \"Quantity\"] = ethlizards_df * 500\n",
    "\n",
    "ethlizards_df_upper = ethlizards_df.clip(upper=pd.Series({'Quantity': 10000}), axis=1)\n",
    "\n",
    "ethlizards_drop = ethlizards_df_upper.drop(columns=['PendingBalanceUpdate'])\n",
    "\n",
    "ethlizards_drop.loc[:, \"Quantity\"] = ethlizards_drop * 10**6\n",
    "\n",
    "ethlizards_df_upper_2 = ethlizards_drop.clip(upper=pd.Series({'Quantity': 10000000000000000000000}), axis=1)\n",
    "\n",
    "ethlizards_df_upper_2.to_csv('ethlizards_final.csv')"
   ]
  },
  {
   "cell_type": "code",
   "execution_count": null,
   "id": "5ac8bfbf-43fb-47f0-b211-f5b6ff0f28f6",
   "metadata": {},
   "outputs": [],
   "source": []
  }
 ],
 "metadata": {
  "kernelspec": {
   "display_name": "Python 3 (ipykernel)",
   "language": "python",
   "name": "python3"
  },
  "language_info": {
   "codemirror_mode": {
    "name": "ipython",
    "version": 3
   },
   "file_extension": ".py",
   "mimetype": "text/x-python",
   "name": "python",
   "nbconvert_exporter": "python",
   "pygments_lexer": "ipython3",
   "version": "3.10.4"
  }
 },
 "nbformat": 4,
 "nbformat_minor": 5
}
