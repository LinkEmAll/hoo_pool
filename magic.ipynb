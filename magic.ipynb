{
 "cells": [
  {
   "cell_type": "code",
   "execution_count": null,
   "id": "e9c6f893-428c-4bbb-b88d-1feb31d8f6ec",
   "metadata": {},
   "outputs": [],
   "source": [
    "import pandas as pd \n",
    "from pathlib import Path\n",
    "\n",
    "magic_df = pd.read_csv(\n",
    "    Path(\"./export-tokenholders-for-contract-0x539bde0d7dbd336b79148aa742883198bbf60342.csv\"),\n",
    "    index_col='HolderAddress', \n",
    "    parse_dates=False, \n",
    "    infer_datetime_format=False\n",
    ")\n",
    "\n",
    "magic_min_df = magic_df[magic_df.Balance >= 4000]\n",
    "\n",
    "magic_min_df.loc[:, \"Balance\"] = (magic_min_df.loc[:, \"Balance\"] * .5) * 44\n",
    "\n",
    "magic_df_final = magic_min_df.clip(upper=pd.Series({'Balance': 10000}), axis=1).drop(columns=['PendingBalanceUpdate'])\n",
    "\n",
    "magic_df_final.to_csv('magic.csv')"
   ]
  }
 ],
 "metadata": {
  "kernelspec": {
   "display_name": "Python 3 (ipykernel)",
   "language": "python",
   "name": "python3"
  },
  "language_info": {
   "codemirror_mode": {
    "name": "ipython",
    "version": 3
   },
   "file_extension": ".py",
   "mimetype": "text/x-python",
   "name": "python",
   "nbconvert_exporter": "python",
   "pygments_lexer": "ipython3",
   "version": "3.10.4"
  }
 },
 "nbformat": 4,
 "nbformat_minor": 5
}
