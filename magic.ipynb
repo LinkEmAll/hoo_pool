{
 "cells": [
  {
   "cell_type": "code",
   "execution_count": 2,
   "id": "e9c6f893-428c-4bbb-b88d-1feb31d8f6ec",
   "metadata": {},
   "outputs": [
    {
     "name": "stderr",
     "output_type": "stream",
     "text": [
      "C:\\Users\\revup\\AppData\\Local\\Temp\\ipykernel_37160\\978642480.py:13: SettingWithCopyWarning: \n",
      "A value is trying to be set on a copy of a slice from a DataFrame.\n",
      "Try using .loc[row_indexer,col_indexer] = value instead\n",
      "\n",
      "See the caveats in the documentation: https://pandas.pydata.org/pandas-docs/stable/user_guide/indexing.html#returning-a-view-versus-a-copy\n",
      "  magic_min_df.loc[:, \"Balance\"] = ((magic_min_df.loc[:, \"Balance\"] * .5) * .43) * 10**6\n"
     ]
    }
   ],
   "source": [
    "import pandas as pd \n",
    "from pathlib import Path\n",
    "\n",
    "magic_df = pd.read_csv(\n",
    "    Path(\"./export-tokenholders-for-contract-0x539bde0d7dbd336b79148aa742883198bbf60342.csv\"),\n",
    "    index_col='HolderAddress', \n",
    "    parse_dates=False, \n",
    "    infer_datetime_format=False\n",
    ")\n",
    "\n",
    "magic_min_df = magic_df[magic_df.Balance >= 2300]\n",
    "\n",
    "magic_min_df.loc[:, \"Balance\"] = ((magic_min_df.loc[:, \"Balance\"] * .5) * .43) * 10**6\n",
    "\n",
    "magic_df_final = magic_min_df.clip(upper=pd.Series({'Balance': 10000000000000000000000}), axis=1).drop(columns=['PendingBalanceUpdate'])\n",
    "\n",
    "magic_df_final.to_csv('magic.csv')"
   ]
  },
  {
   "cell_type": "code",
   "execution_count": null,
   "id": "f31bfdb3-fc71-423a-b4c1-b5a6dc74aae6",
   "metadata": {},
   "outputs": [],
   "source": []
  }
 ],
 "metadata": {
  "kernelspec": {
   "display_name": "Python 3 (ipykernel)",
   "language": "python",
   "name": "python3"
  },
  "language_info": {
   "codemirror_mode": {
    "name": "ipython",
    "version": 3
   },
   "file_extension": ".py",
   "mimetype": "text/x-python",
   "name": "python",
   "nbconvert_exporter": "python",
   "pygments_lexer": "ipython3",
   "version": "3.10.4"
  }
 },
 "nbformat": 4,
 "nbformat_minor": 5
}
