{
 "cells": [
  {
   "cell_type": "code",
   "execution_count": null,
   "id": "c5ec1d7d-3bae-4000-b1dd-114578e2e9f5",
   "metadata": {},
   "outputs": [],
   "source": [
    "import pandas as pd \n",
    "from pathlib import Path\n",
    "\n",
    "gmx_stakers_df = pd.read_csv(\n",
    "    Path(\"./export-tokenholders-for-contract-0xf42ae1d54fd613c9bb14810b0588faaa09a426ca.csv\"),\n",
    "    index_col='HolderAddress', \n",
    "    parse_dates=False, \n",
    "    infer_datetime_format=False\n",
    ")\n",
    "\n",
    "gmx_stakers_min_df = gmx_stakers_df[gmx_stakers_df.Balance >= 23]\n",
    "\n",
    "gmx_stakers_min_df.loc[:, \"Balance\"] = (gmx_stakers_min_df.loc[:, \"Balance\"] * .5) * 44\n",
    "\n",
    "gmx_stakers_df_final = gmx_stakers_min_df.clip(upper=pd.Series({'Balance': 10000}), axis=1).drop(columns=['PendingBalanceUpdate'])\n",
    "\n",
    "gmx_stakers_df_final.to_csv('gmx_stakers.csv')"
   ]
  }
 ],
 "metadata": {
  "kernelspec": {
   "display_name": "Python 3 (ipykernel)",
   "language": "python",
   "name": "python3"
  },
  "language_info": {
   "codemirror_mode": {
    "name": "ipython",
    "version": 3
   },
   "file_extension": ".py",
   "mimetype": "text/x-python",
   "name": "python",
   "nbconvert_exporter": "python",
   "pygments_lexer": "ipython3",
   "version": "3.10.4"
  }
 },
 "nbformat": 4,
 "nbformat_minor": 5
}
